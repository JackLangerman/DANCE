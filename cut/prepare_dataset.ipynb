{
 "cells": [
  {
   "cell_type": "code",
   "execution_count": 1,
   "metadata": {},
   "outputs": [],
   "source": [
    "import glob\n",
    "import natsort\n",
    "import os\n",
    "import ioutils as io\n",
    "import numpy as np\n",
    "import cv2\n",
    "import pickle\n",
    "import shutil\n",
    "import sys\n",
    "# sys.path.append('/scratch/zq415/grammar_cor/pose/pose_estimate/notebook')\n",
    "# from scr_utils import make_render_dataset\n"
   ]
  },
  {
   "cell_type": "code",
   "execution_count": 2,
   "metadata": {},
   "outputs": [
    {
     "name": "stdout",
     "output_type": "stream",
     "text": [
      "100000\n",
      "28411\n"
     ]
    }
   ],
   "source": [
    "render_img_paths = natsort.natsorted(glob.glob('/scratch/zq415/work/pose/data/train_render_matched'+'/**/*.png', recursive=True))\n",
    "print(len(render_img_paths))\n",
    "\n",
    "real_train_img_paths = natsort.natsorted(glob.glob('/scratch/zq415/work/pose/data/train_real_imgs'+'/**/*.png', recursive=True))\n",
    "print(len(real_train_img_paths))\n"
   ]
  },
  {
   "cell_type": "code",
   "execution_count": 3,
   "metadata": {},
   "outputs": [],
   "source": [
    "save_path = './datasets/match2real_new'"
   ]
  },
  {
   "cell_type": "code",
   "execution_count": 4,
   "metadata": {},
   "outputs": [],
   "source": [
    "TrainA = os.path.join(save_path, 'trainA') #\n",
    "if not os.path.exists(TrainA):\n",
    "    os.mkdir(TrainA)\n",
    "pickle.dump(render_img_paths, open(os.path.join(TrainA,'img_paths.p'), \"wb\"))\n"
   ]
  },
  {
   "cell_type": "code",
   "execution_count": 5,
   "metadata": {},
   "outputs": [],
   "source": [
    "TrainB = os.path.join(save_path, 'trainB') #\n",
    "if not os.path.exists(TrainB):\n",
    "    os.mkdir(TrainB)\n",
    "pickle.dump(real_train_img_paths, open(os.path.join(TrainB,'img_paths.p'), \"wb\"))\n"
   ]
  },
  {
   "cell_type": "code",
   "execution_count": null,
   "metadata": {},
   "outputs": [],
   "source": []
  }
 ],
 "metadata": {
  "kernelspec": {
   "display_name": "Python 3",
   "language": "python",
   "name": "python3"
  },
  "language_info": {
   "codemirror_mode": {
    "name": "ipython",
    "version": 3
   },
   "file_extension": ".py",
   "mimetype": "text/x-python",
   "name": "python",
   "nbconvert_exporter": "python",
   "pygments_lexer": "ipython3",
   "version": "3.6.12"
  }
 },
 "nbformat": 4,
 "nbformat_minor": 4
}
